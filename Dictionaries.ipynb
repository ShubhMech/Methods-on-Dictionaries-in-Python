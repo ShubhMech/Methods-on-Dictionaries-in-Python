{
 "cells": [
  {
   "cell_type": "code",
   "execution_count": 15,
   "id": "dbd3ee53-f69f-496a-be4c-7be5ca1d40ae",
   "metadata": {},
   "outputs": [],
   "source": [
    "dict1= dict()"
   ]
  },
  {
   "cell_type": "code",
   "execution_count": 18,
   "id": "97ef2f46-91bb-4468-b010-3d684daf2d22",
   "metadata": {},
   "outputs": [],
   "source": [
    "dict1[\"Ramesh\"]= 1\n",
    "dict1[\"Suresh\"]=2\n",
    "dict1[\"Mahesh\"]=\"Nandini\"\n",
    "dict1[\"1\"]=\"88\"\n",
    "# dict1.pop(1)"
   ]
  },
  {
   "cell_type": "code",
   "execution_count": 19,
   "id": "754c3408-dfe7-4c94-bb17-d3ec7558c8e3",
   "metadata": {},
   "outputs": [
    {
     "data": {
      "text/plain": [
       "{'Ramesh': 1, 'Suresh': 2, 'Mahesh': 'Nandini', '1': '88'}"
      ]
     },
     "execution_count": 19,
     "metadata": {},
     "output_type": "execute_result"
    }
   ],
   "source": [
    "dict1"
   ]
  },
  {
   "cell_type": "code",
   "execution_count": 20,
   "id": "84c2a008-3026-48f5-b8f8-a021a43a2d35",
   "metadata": {},
   "outputs": [
    {
     "data": {
      "text/plain": [
       "1"
      ]
     },
     "execution_count": 20,
     "metadata": {},
     "output_type": "execute_result"
    }
   ],
   "source": [
    "dict1.pop(\"Ramesh\")"
   ]
  },
  {
   "cell_type": "code",
   "execution_count": 21,
   "id": "d2d635d1-adbb-4cf2-9892-becb2446be3c",
   "metadata": {},
   "outputs": [
    {
     "data": {
      "text/plain": [
       "{'Suresh': 2, 'Mahesh': 'Nandini', '1': '88'}"
      ]
     },
     "execution_count": 21,
     "metadata": {},
     "output_type": "execute_result"
    }
   ],
   "source": [
    "dict1"
   ]
  },
  {
   "cell_type": "code",
   "execution_count": 22,
   "id": "b111b52f-a765-4651-a2cb-e19d9082f7af",
   "metadata": {},
   "outputs": [
    {
     "data": {
      "text/plain": [
       "dict_keys(['Suresh', 'Mahesh', '1'])"
      ]
     },
     "execution_count": 22,
     "metadata": {},
     "output_type": "execute_result"
    }
   ],
   "source": [
    "dict1.keys()"
   ]
  },
  {
   "cell_type": "code",
   "execution_count": 23,
   "id": "20b3ca99-632c-4306-b1c6-a216745609aa",
   "metadata": {},
   "outputs": [
    {
     "data": {
      "text/plain": [
       "dict_items([('Suresh', 2), ('Mahesh', 'Nandini'), ('1', '88')])"
      ]
     },
     "execution_count": 23,
     "metadata": {},
     "output_type": "execute_result"
    }
   ],
   "source": [
    "dict1.items()"
   ]
  },
  {
   "cell_type": "code",
   "execution_count": 24,
   "id": "2b4e344d-ac40-4d5b-a4af-ca6e57c0b005",
   "metadata": {},
   "outputs": [],
   "source": [
    "def afunc(**shubham):\n",
    "    for i,j in shubham.items():\n",
    "        print(i,j)"
   ]
  },
  {
   "cell_type": "code",
   "execution_count": 25,
   "id": "6ccda63f-0e99-4b55-9af7-67e889c00c4e",
   "metadata": {},
   "outputs": [
    {
     "name": "stdout",
     "output_type": "stream",
     "text": [
      "Suresh 2\n",
      "Mahesh Nandini\n",
      "1 88\n"
     ]
    }
   ],
   "source": [
    "afunc(**dict1)"
   ]
  },
  {
   "cell_type": "code",
   "execution_count": 26,
   "id": "adbcbf3c-d433-454a-87a9-8a4c744ae1ca",
   "metadata": {},
   "outputs": [
    {
     "data": {
      "text/plain": [
       "8110847654940078273"
      ]
     },
     "execution_count": 26,
     "metadata": {},
     "output_type": "execute_result"
    }
   ],
   "source": [
    "hash(dict1[\"Mahesh\"])"
   ]
  },
  {
   "cell_type": "code",
   "execution_count": 27,
   "id": "9835715d-e9a6-43f9-b195-a478df83a0fc",
   "metadata": {},
   "outputs": [
    {
     "data": {
      "text/plain": [
       "8110847654940078273"
      ]
     },
     "execution_count": 27,
     "metadata": {},
     "output_type": "execute_result"
    }
   ],
   "source": [
    "hash(dict1[\"Mahesh\"])"
   ]
  },
  {
   "cell_type": "code",
   "execution_count": 28,
   "id": "57bea940-d3e6-4c38-ae5c-813fe010275f",
   "metadata": {},
   "outputs": [
    {
     "data": {
      "text/plain": [
       "('1', '88')"
      ]
     },
     "execution_count": 28,
     "metadata": {},
     "output_type": "execute_result"
    }
   ],
   "source": [
    "dict1.popitem()"
   ]
  },
  {
   "cell_type": "code",
   "execution_count": 29,
   "id": "ec9faf10-14a5-48b7-894f-d77bce24c0d6",
   "metadata": {},
   "outputs": [
    {
     "data": {
      "text/plain": [
       "{'Suresh': 2, 'Mahesh': 'Nandini'}"
      ]
     },
     "execution_count": 29,
     "metadata": {},
     "output_type": "execute_result"
    }
   ],
   "source": [
    "dict1"
   ]
  },
  {
   "cell_type": "code",
   "execution_count": 30,
   "id": "81ec887f-105c-4fd5-95f7-eec961811760",
   "metadata": {},
   "outputs": [],
   "source": [
    "from array import *\n",
    "arr1= array(\"i\", [1,2,3,4,5])\n",
    "# arr2= arr1.copy()"
   ]
  },
  {
   "cell_type": "code",
   "execution_count": 31,
   "id": "98aeb7b6-6768-4c6b-b8d7-79ee89b8ac8c",
   "metadata": {},
   "outputs": [],
   "source": [
    "list1=[1,2,3,4,5]\n",
    "list2= list1.copy()"
   ]
  },
  {
   "cell_type": "code",
   "execution_count": 32,
   "id": "7845d9fa-31f5-4dd6-956e-b7d4be0763e4",
   "metadata": {},
   "outputs": [],
   "source": [
    "dict2=dict1.copy()"
   ]
  },
  {
   "cell_type": "code",
   "execution_count": 33,
   "id": "be057eaa-bafb-4a66-bc36-bdc7ad4d89ff",
   "metadata": {},
   "outputs": [
    {
     "data": {
      "text/plain": [
       "('Mahesh', 'Nandini')"
      ]
     },
     "execution_count": 33,
     "metadata": {},
     "output_type": "execute_result"
    }
   ],
   "source": [
    "(dict2.popitem())"
   ]
  },
  {
   "cell_type": "code",
   "execution_count": 34,
   "id": "7c9144d5-71ad-434b-9fdb-e5c6985921f8",
   "metadata": {},
   "outputs": [
    {
     "data": {
      "text/plain": [
       "{'Suresh': 2, 'Mahesh': 'Nandini'}"
      ]
     },
     "execution_count": 34,
     "metadata": {},
     "output_type": "execute_result"
    }
   ],
   "source": [
    "dict1"
   ]
  },
  {
   "cell_type": "code",
   "execution_count": 35,
   "id": "6d4d7de2-9a90-4565-89b0-31ee656b4182",
   "metadata": {},
   "outputs": [],
   "source": [
    "dict3= dict2"
   ]
  },
  {
   "cell_type": "code",
   "execution_count": 36,
   "id": "27bafcde-5d1d-4f6c-ab9c-c273726eb6f2",
   "metadata": {},
   "outputs": [],
   "source": [
    "dict3.clear()"
   ]
  },
  {
   "cell_type": "code",
   "execution_count": 37,
   "id": "a7f65db4-dc10-4ee2-a4e8-1068b42f4bca",
   "metadata": {},
   "outputs": [
    {
     "data": {
      "text/plain": [
       "{}"
      ]
     },
     "execution_count": 37,
     "metadata": {},
     "output_type": "execute_result"
    }
   ],
   "source": [
    "dict2"
   ]
  },
  {
   "cell_type": "code",
   "execution_count": 38,
   "id": "dd663ca0-616c-4c17-9b6e-40f1457aa89e",
   "metadata": {},
   "outputs": [
    {
     "data": {
      "text/plain": [
       "{}"
      ]
     },
     "execution_count": 38,
     "metadata": {},
     "output_type": "execute_result"
    }
   ],
   "source": [
    "dict1.fromkeys(dict2,(1,2,3,4))"
   ]
  },
  {
   "cell_type": "code",
   "execution_count": 39,
   "id": "0c756613-f59e-47d1-a14c-5a1f90b427ab",
   "metadata": {},
   "outputs": [],
   "source": [
    "dict1.get(\"Ramesh\")"
   ]
  },
  {
   "cell_type": "code",
   "execution_count": 40,
   "id": "06922587-4d68-4765-9339-5c9c19792fd4",
   "metadata": {},
   "outputs": [
    {
     "data": {
      "text/plain": [
       "2"
      ]
     },
     "execution_count": 40,
     "metadata": {},
     "output_type": "execute_result"
    }
   ],
   "source": [
    "dict1.pop(\"Suresh\")"
   ]
  },
  {
   "cell_type": "code",
   "execution_count": 41,
   "id": "db49e07b-0d43-44b8-a0fc-fe57c53b2d3c",
   "metadata": {},
   "outputs": [
    {
     "data": {
      "text/plain": [
       "{'Mahesh': 'Nandini'}"
      ]
     },
     "execution_count": 41,
     "metadata": {},
     "output_type": "execute_result"
    }
   ],
   "source": [
    "dict1"
   ]
  },
  {
   "cell_type": "code",
   "execution_count": 42,
   "id": "ad2f3934-c22e-430b-a1bf-32219a7ca6f1",
   "metadata": {},
   "outputs": [
    {
     "data": {
      "text/plain": [
       "True"
      ]
     },
     "execution_count": 42,
     "metadata": {},
     "output_type": "execute_result"
    }
   ],
   "source": [
    "any(dict1)"
   ]
  },
  {
   "cell_type": "code",
   "execution_count": 46,
   "id": "12f1d5f3-1598-4088-bf5e-210c5adb83cc",
   "metadata": {},
   "outputs": [
    {
     "name": "stdout",
     "output_type": "stream",
     "text": [
      "0\n",
      "0\n",
      "1\n",
      "0\n",
      "1\n",
      "4\n",
      "0\n",
      "1\n",
      "4\n",
      "9\n",
      "0\n",
      "1\n",
      "4\n",
      "9\n",
      "16\n"
     ]
    }
   ],
   "source": [
    "for j in arr1:\n",
    "    for i in range(j):\n",
    "        print(i**2)"
   ]
  },
  {
   "cell_type": "code",
   "execution_count": 48,
   "id": "94d6a1bd-cdf9-4075-b1a7-3d4c31e67080",
   "metadata": {},
   "outputs": [
    {
     "data": {
      "text/plain": [
       "[0,\n",
       " 0,\n",
       " 0,\n",
       " 0,\n",
       " 0,\n",
       " 1,\n",
       " 1,\n",
       " 1,\n",
       " 1,\n",
       " 1,\n",
       " 4,\n",
       " 4,\n",
       " 4,\n",
       " 4,\n",
       " 4,\n",
       " 9,\n",
       " 9,\n",
       " 9,\n",
       " 9,\n",
       " 9,\n",
       " 16,\n",
       " 16,\n",
       " 16,\n",
       " 16,\n",
       " 16]"
      ]
     },
     "execution_count": 48,
     "metadata": {},
     "output_type": "execute_result"
    }
   ],
   "source": [
    "[i**2 for i in range(j) for j in arr1]"
   ]
  },
  {
   "cell_type": "code",
   "execution_count": 49,
   "id": "dd9a41df-0acf-4125-a3b6-7aba3da3b9ee",
   "metadata": {},
   "outputs": [
    {
     "data": {
      "text/plain": [
       "1"
      ]
     },
     "execution_count": 49,
     "metadata": {},
     "output_type": "execute_result"
    }
   ],
   "source": [
    "len(dict1)"
   ]
  },
  {
   "cell_type": "code",
   "execution_count": 50,
   "id": "eaf724d8-7dca-4253-8129-73582de5c2f9",
   "metadata": {},
   "outputs": [
    {
     "data": {
      "text/plain": [
       "['Mahesh']"
      ]
     },
     "execution_count": 50,
     "metadata": {},
     "output_type": "execute_result"
    }
   ],
   "source": [
    "sorted(dict1)"
   ]
  },
  {
   "cell_type": "code",
   "execution_count": 51,
   "id": "905ce784-74af-4410-b429-b101eaa316de",
   "metadata": {},
   "outputs": [
    {
     "data": {
      "text/plain": [
       "['Mahesh']"
      ]
     },
     "execution_count": 51,
     "metadata": {},
     "output_type": "execute_result"
    }
   ],
   "source": [
    "sorted(dict1)"
   ]
  },
  {
   "cell_type": "code",
   "execution_count": null,
   "id": "d1672059-03b5-4d7d-b81a-00b710a26496",
   "metadata": {},
   "outputs": [],
   "source": []
  }
 ],
 "metadata": {
  "kernelspec": {
   "display_name": "Python 3",
   "language": "python",
   "name": "python3"
  },
  "language_info": {
   "codemirror_mode": {
    "name": "ipython",
    "version": 3
   },
   "file_extension": ".py",
   "mimetype": "text/x-python",
   "name": "python",
   "nbconvert_exporter": "python",
   "pygments_lexer": "ipython3",
   "version": "3.8.5"
  }
 },
 "nbformat": 4,
 "nbformat_minor": 5
}
